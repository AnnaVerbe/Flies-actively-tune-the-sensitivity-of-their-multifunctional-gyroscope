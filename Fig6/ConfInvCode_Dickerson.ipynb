{
 "cells": [
  {
   "cell_type": "code",
   "execution_count": 3,
   "id": "6ce4db4f-bd39-43b1-b09d-d42b83de2d7e",
   "metadata": {},
   "outputs": [],
   "source": [
    "import numpy as np\n",
    "# import matplotlib.pyplot as plt"
   ]
  },
  {
   "cell_type": "code",
   "execution_count": 5,
   "id": "aaadc0eb-8e4b-4c75-a370-03f18d184440",
   "metadata": {},
   "outputs": [
    {
     "name": "stdout",
     "output_type": "stream",
     "text": [
      "(array([ 0.        , -0.10969929, -0.19847896, ..., -0.45305514,\n",
      "       -0.45144046, -0.40543318]), array([0.        , 0.16217015, 0.13025118, ..., 1.29527185, 1.3930667 ,\n",
      "       1.44953744]))\n"
     ]
    }
   ],
   "source": [
    "\n",
    "def conf_int(file_name: str):\n",
    "    data = np.genfromtxt(file_name, delimiter=',')\n",
    "    data = data.T\n",
    "    mb_all = [] ; mb_all2 = []\n",
    "    for i in range(data.shape[0]):\n",
    "      x = data[i, :]\n",
    "      n = len(x)\n",
    "      reps = 1000\n",
    "      xb = np.random.choice(x, (n, reps))\n",
    "      mb = xb.mean(axis=0)\n",
    "      mb.sort()\n",
    "      mb_all.extend(list(np.percentile(list(mb), [2.5])))\n",
    "      mb_all2.extend(list(np.percentile(list(mb), [97.5])))\n",
    "    return np.asarray(mb_all), np.asarray(mb_all2)\n",
    "\n",
    "\n",
    "data_conf = conf_int('S01_data_experimental.csv')\n",
    "print(data_conf)\n",
    "\n",
    "np.savetxt('S01_data_experimental_confint.csv', data_conf, delimiter=',')"
   ]
  },
  {
   "cell_type": "code",
   "execution_count": null,
   "id": "23e8aab5-d4d6-4c62-8c6e-5680a65319f9",
   "metadata": {},
   "outputs": [],
   "source": []
  }
 ],
 "metadata": {
  "kernelspec": {
   "display_name": "Python 3 (ipykernel)",
   "language": "python",
   "name": "python3"
  },
  "language_info": {
   "codemirror_mode": {
    "name": "ipython",
    "version": 3
   },
   "file_extension": ".py",
   "mimetype": "text/x-python",
   "name": "python",
   "nbconvert_exporter": "python",
   "pygments_lexer": "ipython3",
   "version": "3.9.12"
  }
 },
 "nbformat": 4,
 "nbformat_minor": 5
}
